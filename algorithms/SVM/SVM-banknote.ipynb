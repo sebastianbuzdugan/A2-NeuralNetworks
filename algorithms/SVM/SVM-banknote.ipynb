{
 "cells": [
  {
   "cell_type": "markdown",
   "metadata": {},
   "source": [
    "## Load dataset"
   ]
  },
  {
   "cell_type": "code",
   "execution_count": 1,
   "metadata": {},
   "outputs": [],
   "source": [
    "import os\n",
    "import pandas as pd\n",
    "import numpy as np\n",
    "import matplotlib.pyplot as plt\n",
    "from sklearn.svm import SVC\n",
    "from sklearn.metrics import confusion_matrix, ConfusionMatrixDisplay, accuracy_score\n",
    "from sklearn.model_selection import KFold\n",
    "\n",
    "\n",
    "X_train_banknote = pd.read_csv(\"../../input/A2-banknote/banknote_X_train.csv\")\n",
    "X_test_banknote = pd.read_csv(\"../../input/A2-banknote/banknote_X_test.csv\")\n",
    "y_train_banknote = pd.read_csv(\"../../input/A2-banknote/banknote_y_train.csv\")\n",
    "y_test_banknote = pd.read_csv(\"../../input/A2-banknote/banknote_y_test.csv\")\n",
    "\n",
    "\n"
   ]
  },
  {
   "cell_type": "markdown",
   "metadata": {},
   "source": [
    "## Cross-validation"
   ]
  },
  {
   "cell_type": "code",
   "execution_count": 2,
   "metadata": {},
   "outputs": [
    {
     "name": "stdout",
     "output_type": "stream",
     "text": [
      "Kernel: linear, C: 0.1, Mean CV Accuracy: 0.98814200398142\n",
      "Kernel: linear, C: 1, Mean CV Accuracy: 0.9890577305905773\n",
      "Kernel: linear, C: 10, Mean CV Accuracy: 0.9890577305905773\n",
      "Kernel: rbf, C: 0.1, Mean CV Accuracy: 0.9881453218314531\n",
      "Kernel: rbf, C: 1, Mean CV Accuracy: 0.9954379562043795\n",
      "Kernel: rbf, C: 10, Mean CV Accuracy: 1.0\n",
      "Best Model Parameters: {'kernel': 'rbf', 'C': 10}, Best Accuracy: 1.0\n"
     ]
    }
   ],
   "source": [
    "# the set of parameters defined\n",
    "kernel_options = ['linear', 'rbf']\n",
    "C_options = [0.1, 1, 10]\n",
    "\n",
    "# to store the best model and its performance\n",
    "best_model = None\n",
    "best_accuracy = 0\n",
    "best_params = {}\n",
    "\n",
    "# 4-fold cross-validation\n",
    "kf = KFold(n_splits=4)\n",
    "\n",
    "for kernel in kernel_options:\n",
    "    for C in C_options:\n",
    "        cv_accuracy = []\n",
    "\n",
    "        for train, validation in kf.split(X_train_banknote):\n",
    "            clf = SVC(kernel=kernel, C=C, random_state=0, probability=True)\n",
    "            clf.fit(X_train_banknote.iloc[train], y_train_banknote.iloc[train].values.ravel())\n",
    "            y_pred = clf.predict(X_train_banknote.iloc[validation])\n",
    "            accuracy = accuracy_score(y_train_banknote.iloc[validation], y_pred)\n",
    "            cv_accuracy.append(accuracy)\n",
    "        \n",
    "        mean_accuracy = np.mean(cv_accuracy)\n",
    "        print(f\"Kernel: {kernel}, C: {C}, Mean CV Accuracy: {mean_accuracy}\")\n",
    "\n",
    "        if mean_accuracy > best_accuracy:\n",
    "            best_accuracy = mean_accuracy\n",
    "            best_model = clf\n",
    "            best_params = {'kernel': kernel, 'C': C}\n",
    "\n",
    "print(f\"Best Model Parameters: {best_params}, Best Accuracy: {best_accuracy}\")"
   ]
  },
  {
   "cell_type": "markdown",
   "metadata": {},
   "source": [
    "## Model Training "
   ]
  },
  {
   "cell_type": "code",
   "execution_count": 3,
   "metadata": {},
   "outputs": [
    {
     "name": "stdout",
     "output_type": "stream",
     "text": [
      "Percentage Classification Error on Training Set: 0.0%\n"
     ]
    }
   ],
   "source": [
    "# retrain the model using the best parameters on the entire training dataset\n",
    "best_model.fit(X_train_banknote, y_train_banknote.values.ravel())\n",
    "\n",
    "# predict on the training set\n",
    "y_pred_train = best_model.predict(X_train_banknote)\n",
    "\n",
    "# confusion matrix for the training set [required]\n",
    "cm_train = confusion_matrix(y_train_banknote, y_pred_train)\n",
    "\n",
    "# elements of the confusion matrix\n",
    "n00_train = cm_train[0][0]  # True Negatives\n",
    "n01_train = cm_train[0][1]  # False Positives\n",
    "n10_train = cm_train[1][0]  # False Negatives\n",
    "n11_train = cm_train[1][1]  # True Positives\n",
    "\n",
    "# classification error calculation for the training set from the document\n",
    "classification_error_percentage_train = 100 * (n01_train + n10_train) / (n00_train + n11_train + n01_train + n10_train)\n",
    "print(f\"Percentage Classification Error on Training Set: {classification_error_percentage_train}%\")\n"
   ]
  },
  {
   "cell_type": "markdown",
   "metadata": {},
   "source": [
    "## Test Dataset"
   ]
  },
  {
   "cell_type": "code",
   "execution_count": 4,
   "metadata": {},
   "outputs": [
    {
     "name": "stdout",
     "output_type": "stream",
     "text": [
      "Accuracy on Test Set: 1.0\n",
      "Confussion Matrices: [[148   0]\n",
      " [  0 127]]\n",
      "Percentage Classification Error on Test Set: 0.0%\n",
      "AUC Score on Test Set: 1.00%\n"
     ]
    }
   ],
   "source": [
    "from sklearn.metrics import auc, confusion_matrix, ConfusionMatrixDisplay, roc_curve\n",
    "\n",
    "# retrain the model on the entire training set\n",
    "best_model.fit(X_train_banknote, y_train_banknote.values.ravel())\n",
    "\n",
    "# predict on the test set\n",
    "y_pred_test = best_model.predict(X_test_banknote)\n",
    "\n",
    "# calculate test accuracy\n",
    "test_accuracy = accuracy_score(y_test_banknote, y_pred_test)\n",
    "print(f\"Accuracy on Test Set: {test_accuracy}\")\n",
    "\n",
    "\n",
    "# display the confusion matrix\n",
    "cm = confusion_matrix(y_test_banknote, y_pred_test)\n",
    "print(f\"Confussion Matrices: {cm}\")\n",
    "\n",
    "n00 = cm[0][0]\n",
    "n01 = cm[0][1]\n",
    "n10 = cm[1][0]  \n",
    "n11 = cm[1][1]  \n",
    "\n",
    "\n",
    "# classification error calculation for the training set from the document\n",
    "classification_error_percentage = 100 * (n01 + n10) / (n00 + n11 + n01 + n10)\n",
    "print(f\"Percentage Classification Error on Test Set: {classification_error_percentage}%\")\n",
    "\n",
    "\n",
    "\n",
    "# best_model is a trained classifier, such as a logistic regression or random forest model\n",
    "y_prob = best_model.predict_proba(X_test_banknote)[:, 1]  # obtain probabilities for the positive class\n",
    "# compute the false positive rate (fpr) and true positive rate (tpr) for various threshold values\n",
    "fpr, tpr, _ = roc_curve(y_test_banknote, y_prob)\n",
    "# calculate the Area Under the Receiver Operating Characteristic Curve (ROC AUC) from the fpr and tpr\n",
    "roc_auc = auc(fpr, tpr)\n",
    "print(f\"AUC Score on Test Set: {roc_auc:.2f}%\")  \n",
    "\n",
    "\n",
    "\n"
   ]
  }
 ],
 "metadata": {
  "kernelspec": {
   "display_name": "Python 3",
   "language": "python",
   "name": "python3"
  },
  "language_info": {
   "codemirror_mode": {
    "name": "ipython",
    "version": 3
   },
   "file_extension": ".py",
   "mimetype": "text/x-python",
   "name": "python",
   "nbconvert_exporter": "python",
   "pygments_lexer": "ipython3",
   "version": "3.8.10"
  }
 },
 "nbformat": 4,
 "nbformat_minor": 2
}
